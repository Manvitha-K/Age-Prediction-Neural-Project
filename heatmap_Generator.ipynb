{
 "cells": [
  {
   "cell_type": "code",
   "execution_count": 0,
   "metadata": {
    "colab": {},
    "colab_type": "code",
    "id": "2yXOb1FzDx32"
   },
   "outputs": [],
   "source": [
    "from keras.applications.vgg16 import VGG16\n",
    "import matplotlib.image as mpimg\n",
    "from keras import backend as K\n",
    "import matplotlib.pyplot as plt\n",
    "%matplotlib inline\n",
    "K.clear_session()"
   ]
  },
  {
   "cell_type": "code",
   "execution_count": null,
   "metadata": {},
   "outputs": [],
   "source": [
    "def myModel():\n",
    "    model = Sequential()\n",
    "    model.add(layers.Conv2D(96, (7, 7), activation='relu', input_shape=(227, 227, 3), kernel_initializer=initializers.random_normal(stddev=0.01)))\n",
    "    model.add(layers.MaxPooling2D((3, 3), strides=(2,2)))\n",
    "    model.add(BatchNormalization())\n",
    "\n",
    "    model.add(layers.Conv2D(256, (5, 5), activation='relu', kernel_initializer=initializers.random_normal(stddev=0.01)))\n",
    "    model.add(layers.MaxPooling2D((3, 3), strides=(2,2) ))\n",
    "    model.add(BatchNormalization())\n",
    "\n",
    "    model.add(layers.Conv2D(384, (3, 3), activation='relu', kernel_initializer=initializers.random_normal(stddev=0.01)))\n",
    "    model.add(layers.MaxPooling2D((3, 3)))\n",
    "\n",
    "    model.add(layers.Flatten())\n",
    "    model.add(layers.Dense(512, activation='relu', kernel_initializer=initializers.random_normal(stddev=0.01)))\n",
    "    model.add(Dropout(0.5))\n",
    "\n",
    "    model.add(layers.Dense(512, activation='relu', kernel_initializer=initializers.random_normal(stddev=0.01)))\n",
    "    model.add(Dropout(0.5))\n",
    "    model.add(layers.Dense(8, activation='softmax'))\n",
    "    return model\n",
    "    \n",
    "model = myModel()\n",
    "model.load_weights('age_8_50_base.h5')"
   ]
  },
  {
   "cell_type": "code",
   "execution_count": 0,
   "metadata": {
    "colab": {},
    "colab_type": "code",
    "id": "oBQm2jg2D6Jd"
   },
   "outputs": [],
   "source": [
    "img_path = 'landmark_aligned_face.55.9981732215_12862f9950_o.jpg'\n",
    "img=mpimg.imread(img_path)\n"
   ]
  },
  {
   "cell_type": "code",
   "execution_count": 0,
   "metadata": {
    "colab": {},
    "colab_type": "code",
    "id": "DGm97s3bEgW7"
   },
   "outputs": [],
   "source": [
    "from keras.preprocessing import image\n",
    "img = image.load_img(img_path, target_size=(224, 224))\n",
    "x = image.img_to_array(img)\n"
   ]
  },
  {
   "cell_type": "code",
   "execution_count": 0,
   "metadata": {
    "colab": {},
    "colab_type": "code",
    "id": "yGl9rZYrElEz"
   },
   "outputs": [],
   "source": [
    "import numpy as np\n",
    "x = np.expand_dims(x, axis=0)"
   ]
  },
  {
   "cell_type": "code",
   "execution_count": 819,
   "metadata": {
    "colab": {
     "base_uri": "https://localhost:8080/",
     "height": 34
    },
    "colab_type": "code",
    "id": "eK9ny7dCErPK",
    "outputId": "dbb6402e-6028-4847-c943-4e3d5a137aff"
   },
   "outputs": [
    {
     "data": {
      "text/plain": [
       "(1, 224, 224, 3)"
      ]
     },
     "execution_count": 819,
     "metadata": {
      "tags": []
     },
     "output_type": "execute_result"
    }
   ],
   "source": [
    "x.shape"
   ]
  },
  {
   "cell_type": "code",
   "execution_count": 0,
   "metadata": {
    "colab": {},
    "colab_type": "code",
    "id": "BMUK2wEaEsUf"
   },
   "outputs": [],
   "source": [
    "from keras.applications.vgg16 import preprocess_input\n",
    "x = preprocess_input(x)"
   ]
  },
  {
   "cell_type": "code",
   "execution_count": 0,
   "metadata": {
    "colab": {},
    "colab_type": "code",
    "id": "ZGzD0obEFBHa"
   },
   "outputs": [],
   "source": [
    "argmax = np.argmax(preds[0])"
   ]
  },
  {
   "cell_type": "code",
   "execution_count": 0,
   "metadata": {
    "colab": {},
    "colab_type": "code",
    "id": "-zmPl0slFJer"
   },
   "outputs": [],
   "source": [
    "output = model.output[:, argmax]"
   ]
  },
  {
   "cell_type": "code",
   "execution_count": 0,
   "metadata": {
    "colab": {},
    "colab_type": "code",
    "id": "-suDOO9-FM6P"
   },
   "outputs": [],
   "source": [
    "last_conv_layer = model.get_layer('block5_conv3')"
   ]
  },
  {
   "cell_type": "code",
   "execution_count": 0,
   "metadata": {
    "colab": {},
    "colab_type": "code",
    "id": "ppBkRiEzFPos"
   },
   "outputs": [],
   "source": [
    "grads = K.gradients(output, last_conv_layer.output)[0]\n",
    "pooled_grads = K.mean(grads, axis=(0, 1, 2))\n",
    "iterate = K.function([model.input], [pooled_grads, last_conv_layer.output[0]])\n",
    "pooled_grads_value, conv_layer_output_value = iterate([x])"
   ]
  },
  {
   "cell_type": "code",
   "execution_count": 0,
   "metadata": {
    "colab": {},
    "colab_type": "code",
    "id": "QM0SaC8lFjxK"
   },
   "outputs": [],
   "source": [
    "for i in range(512):\n",
    "    conv_layer_output_value[:, :, i] *= pooled_grads_value[i]"
   ]
  },
  {
   "cell_type": "code",
   "execution_count": 828,
   "metadata": {
    "colab": {
     "base_uri": "https://localhost:8080/",
     "height": 275
    },
    "colab_type": "code",
    "id": "XXVZTOadFmey",
    "outputId": "7552d6dd-0351-4192-b3bf-5419d657e4be"
   },
   "outputs": [
    {
     "data": {
      "image/png": "[encoded data removed]",
      "text/plain": [
       "<Figure size 288x288 with 1 Axes>"
      ]
     },
     "metadata": {
      "tags": []
     },
     "output_type": "display_data"
    }
   ],
   "source": [
    "heatmap = np.mean(conv_layer_output_value, axis=-1)\n",
    "heatmap = np.maximum(heatmap, 0)\n",
    "heatmap /= np.max(heatmap)\n",
    "plt.matshow(heatmap)\n",
    "plt.show()"
   ]
  },
  {
   "cell_type": "code",
   "execution_count": 0,
   "metadata": {
    "colab": {},
    "colab_type": "code",
    "id": "AQxRPFTGFpV3"
   },
   "outputs": [],
   "source": [
    "import cv2\n",
    "img = cv2.imread(img_path)\n",
    "heatmap = cv2.resize(heatmap, (img.shape[1], img.shape[0]))\n",
    "heatmap = np.uint8(255 * heatmap)\n",
    "heatmap = cv2.applyColorMap(heatmap, cv2.COLORMAP_JET)\n",
    "hif = .8\n",
    "superimposed_img = heatmap * hif + img"
   ]
  },
  {
   "cell_type": "code",
   "execution_count": 0,
   "metadata": {
    "colab": {},
    "colab_type": "code",
    "id": "c3DLDP3pF5em"
   },
   "outputs": [],
   "source": [
    "output = 'output_8.jpeg'\n",
    "cv2.imwrite(output, superimposed_img)\n",
    "\n",
    "img=mpimg.imread(output)\n"
   ]
  }
 ],
 "metadata": {
  "colab": {
   "name": "Untitled6.ipynb",
   "provenance": [],
   "version": "0.3.2"
  },
  "kernelspec": {
   "display_name": "Python 3",
   "language": "python",
   "name": "python3"
  }
 },
 "nbformat": 4,
 "nbformat_minor": 1
}
